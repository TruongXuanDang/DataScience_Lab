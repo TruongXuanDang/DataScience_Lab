{
 "cells": [
  {
   "cell_type": "code",
   "execution_count": null,
   "id": "bc6b7554",
   "metadata": {},
   "outputs": [],
   "source": [
    "# 1.1 Jupyter Notebooks - The Basics"
   ]
  },
  {
   "cell_type": "code",
   "execution_count": 3,
   "id": "fd0399b6",
   "metadata": {},
   "outputs": [
    {
     "data": {
      "text/plain": [
       "2"
      ]
     },
     "execution_count": 3,
     "metadata": {},
     "output_type": "execute_result"
    }
   ],
   "source": [
    "# Exercise 1: Basic code\n",
    "1+1"
   ]
  },
  {
   "cell_type": "code",
   "execution_count": 4,
   "id": "7be5b3ac",
   "metadata": {},
   "outputs": [
    {
     "data": {
      "text/plain": [
       "4"
      ]
     },
     "execution_count": 4,
     "metadata": {},
     "output_type": "execute_result"
    }
   ],
   "source": [
    "2*2"
   ]
  },
  {
   "cell_type": "code",
   "execution_count": null,
   "id": "5750a59a",
   "metadata": {},
   "outputs": [],
   "source": [
    "#Exercise 2: Create new cells"
   ]
  },
  {
   "cell_type": "code",
   "execution_count": null,
   "id": "4bd80135",
   "metadata": {},
   "outputs": [],
   "source": []
  },
  {
   "cell_type": "code",
   "execution_count": null,
   "id": "10bc8ba2",
   "metadata": {},
   "outputs": [],
   "source": [
    "5-3"
   ]
  },
  {
   "cell_type": "code",
   "execution_count": null,
   "id": "e89db7ac",
   "metadata": {},
   "outputs": [],
   "source": []
  },
  {
   "cell_type": "code",
   "execution_count": null,
   "id": "41df1459",
   "metadata": {},
   "outputs": [],
   "source": [
    "# Exercise 3: Create Markdown cell & Add text"
   ]
  },
  {
   "cell_type": "markdown",
   "id": "d8a138d1",
   "metadata": {},
   "source": [
    "My Title."
   ]
  },
  {
   "cell_type": "code",
   "execution_count": null,
   "id": "a4b748a5",
   "metadata": {},
   "outputs": [],
   "source": [
    "# 1.2 Jupyter Notebooks - More Features"
   ]
  },
  {
   "cell_type": "code",
   "execution_count": null,
   "id": "753ea762",
   "metadata": {},
   "outputs": [],
   "source": [
    "# Exercise 4: Change Notebook name"
   ]
  },
  {
   "cell_type": "code",
   "execution_count": null,
   "id": "82f472c2",
   "metadata": {},
   "outputs": [],
   "source": [
    "# Exercise 5: Save & Download Notebook"
   ]
  },
  {
   "cell_type": "code",
   "execution_count": null,
   "id": "9813944f",
   "metadata": {},
   "outputs": [],
   "source": [
    "# Exercise 6: Change Kernel in Jupyter Lab"
   ]
  },
  {
   "cell_type": "code",
   "execution_count": null,
   "id": "4f5a4107",
   "metadata": {},
   "outputs": [],
   "source": [
    "# 1.3 Jupyter Notebooks - Advanced Features"
   ]
  },
  {
   "cell_type": "code",
   "execution_count": 2,
   "id": "b4ac1553",
   "metadata": {},
   "outputs": [],
   "source": [
    "# Exercise 7: Advanced Markdown"
   ]
  },
  {
   "cell_type": "markdown",
   "id": "81ec2a55",
   "metadata": {},
   "source": [
    "<dl>\n",
    "  <dt>Definition list</dt>\n",
    "  <dd>Is something people use sometimes.</dd>\n",
    "\n",
    "  <dt>Markdown in HTML</dt>\n",
    "  <dd>Does *not* work **very** well. Use HTML <em>tags</em>.</dd>\n",
    "</dl>"
   ]
  },
  {
   "cell_type": "markdown",
   "id": "e1f309ad",
   "metadata": {},
   "source": [
    "Alt-H1\n",
    "======\n",
    "\n",
    "Alt-H2\n",
    "------"
   ]
  },
  {
   "cell_type": "markdown",
   "id": "2d49f944",
   "metadata": {},
   "source": [
    "| header | header | \n",
    "| ------ | ------ | \n",
    "| cell | cell | "
   ]
  },
  {
   "cell_type": "code",
   "execution_count": null,
   "id": "e7dbb26d",
   "metadata": {},
   "outputs": [],
   "source": [
    "# Exercise 8: Advanced Markdown: Create table"
   ]
  },
  {
   "cell_type": "markdown",
   "id": "11cff9bc",
   "metadata": {},
   "source": [
    "| header | header |  header |\n",
    "| ------ | ------ |  ------ |\n",
    "| cell | cell | cell |\n",
    "| cell | cell | cell |\n",
    "| cell | cell | cell |\n",
    "| cell | cell | cell |\n"
   ]
  }
 ],
 "metadata": {
  "kernelspec": {
   "display_name": "Python 3 (ipykernel)",
   "language": "python",
   "name": "python3"
  },
  "language_info": {
   "codemirror_mode": {
    "name": "ipython",
    "version": 3
   },
   "file_extension": ".py",
   "mimetype": "text/x-python",
   "name": "python",
   "nbconvert_exporter": "python",
   "pygments_lexer": "ipython3",
   "version": "3.9.7"
  }
 },
 "nbformat": 4,
 "nbformat_minor": 5
}
